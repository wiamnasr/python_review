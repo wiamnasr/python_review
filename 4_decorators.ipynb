{
 "cells": [
  {
   "cell_type": "markdown",
   "metadata": {},
   "source": [
    "### Decorators allows us to tack on extra functionality to an already existing function\n",
    "\n",
    "### Decorators are commonly used with web frameworks or someone else's library such as Django or Flask, and adding these decorators to maybe render a new website or point to another page\n",
    "\n",
    "\n",
    ">   If that functionality is no longer needed, only one line needs to be deleted from the decorator\n",
    "\n",
    "\n",
    ">   The \"@\" operator is used and placed on top of the original function\n",
    "\n",
    "<hr></hr>\n",
    "\n",
    "\n",
    "@some_decorator\n",
    "\n",
    "def my_function():\n",
    "\n",
    "        # Do Something\n",
    "    \n",
    "        return something\n",
    "\n",
    "<hr></hr>\n",
    "\n",
    "### Building our own decorators can be cumbersome and time consuming as in the example below to build a simple decorator\n",
    "\n",
    "\n"
   ]
  },
  {
   "cell_type": "code",
   "execution_count": 4,
   "metadata": {},
   "outputs": [
    {
     "data": {
      "text/plain": [
       "'Hello!'"
      ]
     },
     "execution_count": 4,
     "metadata": {},
     "output_type": "execute_result"
    }
   ],
   "source": [
    "# Building own decorators manually:\n",
    "\n",
    "def func():\n",
    "    return 1\n",
    "\n",
    "\n",
    "def hello():\n",
    "    return \"Hello!\"\n",
    "\n",
    "# important to know that functions are objects that can be passed into other objects\n",
    "greet = hello\n",
    "\n",
    "greet()"
   ]
  },
  {
   "cell_type": "code",
   "execution_count": 20,
   "metadata": {},
   "outputs": [
    {
     "name": "stdout",
     "output_type": "stream",
     "text": [
      "The hello() function has been executed\n",
      "Iam going to return a function\n"
     ]
    }
   ],
   "source": [
    "# passing/calling functions within other functions\n",
    "def hello(name=\"Jose\"):\n",
    "    print(\"The hello() function has been executed\")\n",
    "\n",
    "    # The below functions have a limited scope inside of the hello() function, to access them outside of hello() function, we can make it return a function as we are doing with greet() and welcome()\n",
    "\n",
    "    #  defining a function inside the hello function\n",
    "    def greet():\n",
    "        return \"\\t This is the greet() function inside hello\"\n",
    "\n",
    "    def welcome():\n",
    "        return \"\\t This is welcome() inside hello\"\n",
    "\n",
    "    print(\"Iam going to return a function\")\n",
    "\n",
    "    if name == \"Jose\":\n",
    "        return greet\n",
    "    else:\n",
    "        return welcome\n",
    "\n",
    "my_new_func = hello()\n",
    "    "
   ]
  },
  {
   "cell_type": "code",
   "execution_count": 22,
   "metadata": {},
   "outputs": [
    {
     "name": "stdout",
     "output_type": "stream",
     "text": [
      "\t This is the greet() function inside hello\n"
     ]
    }
   ],
   "source": [
    "print(my_new_func())"
   ]
  },
  {
   "cell_type": "code",
   "execution_count": 27,
   "metadata": {},
   "outputs": [
    {
     "data": {
      "text/plain": [
       "'this is very cool'"
      ]
     },
     "execution_count": 27,
     "metadata": {},
     "output_type": "execute_result"
    }
   ],
   "source": [
    "# The idea of having a function inside a function is used to build our own decorator\n",
    "\n",
    "def cool():\n",
    "\n",
    "    def super_cool():\n",
    "        return \"this is very cool\"\n",
    "\n",
    "    return super_cool\n",
    "\n",
    "some_func = cool()\n",
    "some_func()"
   ]
  },
  {
   "cell_type": "code",
   "execution_count": null,
   "metadata": {},
   "outputs": [],
   "source": []
  },
  {
   "cell_type": "code",
   "execution_count": 28,
   "metadata": {},
   "outputs": [
    {
     "name": "stdout",
     "output_type": "stream",
     "text": [
      "other code runs here\n",
      "Hi Jose\n"
     ]
    }
   ],
   "source": [
    "# Passing in a function as an argument:\n",
    "def hello():\n",
    "    return \"Hi Jose\"\n",
    "\n",
    "def other(some_def_func):\n",
    "    print(\"other code runs here\")\n",
    "    # will execute the passed in function here:\n",
    "    print(some_def_func())\n",
    "\n",
    "# passing in the raw function \"hello\" into other() function\n",
    "other(hello)"
   ]
  },
  {
   "cell_type": "code",
   "execution_count": null,
   "metadata": {},
   "outputs": [],
   "source": []
  },
  {
   "cell_type": "code",
   "execution_count": 30,
   "metadata": {},
   "outputs": [
    {
     "name": "stdout",
     "output_type": "stream",
     "text": [
      "some extra code before the original_func\n",
      "I want to be decorated\n",
      "Some extra code after the original_func\n"
     ]
    }
   ],
   "source": [
    "# With returning functions and having them as main arguments, we are now able to create oue own decorator\n",
    "\n",
    "# Basically an on/off switch when we want to add more functionality to a decorator\n",
    "\n",
    "def new_decorator(original_func):\n",
    "\n",
    "    # wrap_func() represents the additional functionality that we may want to decorate the original_func with\n",
    "    def wrap_func():\n",
    "\n",
    "        print(\"some extra code before the original_func\")\n",
    "\n",
    "        original_func()\n",
    "\n",
    "        print(\"Some extra code after the original_func\")\n",
    "\n",
    "    return wrap_func\n",
    "\n",
    "\n",
    "# Creating a function that needs a decorator\n",
    "def func_needs_decorator():\n",
    "    print(\"I want to be decorated\")\n",
    "\n",
    "decorated_func = new_decorator(func_needs_decorator)\n",
    "\n",
    "decorated_func()"
   ]
  },
  {
   "cell_type": "code",
   "execution_count": null,
   "metadata": {},
   "outputs": [],
   "source": []
  },
  {
   "cell_type": "code",
   "execution_count": null,
   "metadata": {},
   "outputs": [],
   "source": []
  },
  {
   "cell_type": "markdown",
   "metadata": {},
   "source": [
    "### The \"@\" operator is a special syntax that allows us to create decorators in a much more straight forward way in python\n"
   ]
  },
  {
   "cell_type": "code",
   "execution_count": 33,
   "metadata": {},
   "outputs": [
    {
     "name": "stdout",
     "output_type": "stream",
     "text": [
      "some extra code before the original_func\n",
      "I want to be decorated\n",
      "Some extra code after the original_func\n"
     ]
    }
   ],
   "source": [
    "# the @ operator on top of the function is telling python to pass this function into the original_func, do something with it (add code before or after original_func() call)\n",
    "# commenting the @new_decorator switch out will remove the decorators in case they are no longer needed\n",
    "@new_decorator\n",
    "def func_needs_decorator():\n",
    "    print(\"I want to be decorated\")\n",
    "\n",
    "func_needs_decorator()"
   ]
  },
  {
   "cell_type": "code",
   "execution_count": null,
   "metadata": {},
   "outputs": [],
   "source": []
  }
 ],
 "metadata": {
  "interpreter": {
   "hash": "916dbcbb3f70747c44a77c7bcd40155683ae19c65e1c03b4aa3499c5328201f1"
  },
  "kernelspec": {
   "display_name": "Python 3.8.10 64-bit",
   "language": "python",
   "name": "python3"
  },
  "language_info": {
   "codemirror_mode": {
    "name": "ipython",
    "version": 3
   },
   "file_extension": ".py",
   "mimetype": "text/x-python",
   "name": "python",
   "nbconvert_exporter": "python",
   "pygments_lexer": "ipython3",
   "version": "3.8.8"
  },
  "orig_nbformat": 4
 },
 "nbformat": 4,
 "nbformat_minor": 2
}
