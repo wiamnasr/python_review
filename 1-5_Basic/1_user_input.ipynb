{
 "cells": [
  {
   "cell_type": "code",
   "execution_count": 1,
   "metadata": {},
   "outputs": [],
   "source": [
    "def user_choice():\n",
    "    # VARIABLES\n",
    "\n",
    "\n",
    "    # Initial choice, not a digit to make sure that this loop runs\n",
    "    choice = \"WRONG\"\n",
    "    acceptable_range = range(0,11)\n",
    "    within_range = False\n",
    "\n",
    "\n",
    "    # 2 contitions to check:\n",
    "    # DIGIT or WITHIN_RANGE == False \n",
    "    while choice.isdigit() == False or within_range == False:\n",
    "        choice = input(\"Please enter a number (0-10): \")\n",
    "\n",
    "        # Digit check\n",
    "        if choice.isdigit() == False:\n",
    "            print(\"Sorry that is not a digit!\")\n",
    "\n",
    "        # Range check\n",
    "        if choice.isdigit() == True:\n",
    "            if int(choice) in acceptable_range:\n",
    "                within_range = True\n",
    "            else:\n",
    "                print(\"Sorry, you are out of acceptable range (0-10)\")\n",
    "                # This could be a pass as well\n",
    "                within_range = False\n",
    "\n",
    "    \n",
    "    return int (choice)"
   ]
  },
  {
   "cell_type": "code",
   "execution_count": 2,
   "metadata": {},
   "outputs": [
    {
     "data": {
      "text/plain": [
       "7"
      ]
     },
     "execution_count": 2,
     "metadata": {},
     "output_type": "execute_result"
    }
   ],
   "source": [
    "user_choice()"
   ]
  },
  {
   "cell_type": "markdown",
   "metadata": {},
   "source": []
  },
  {
   "cell_type": "markdown",
   "metadata": {},
   "source": []
  },
  {
   "cell_type": "markdown",
   "metadata": {},
   "source": []
  },
  {
   "cell_type": "markdown",
   "metadata": {},
   "source": []
  },
  {
   "cell_type": "markdown",
   "metadata": {},
   "source": []
  },
  {
   "cell_type": "markdown",
   "metadata": {},
   "source": []
  },
  {
   "cell_type": "code",
   "execution_count": 8,
   "metadata": {},
   "outputs": [],
   "source": [
    "# display game function\n",
    "def display_game(game_list):\n",
    "    print(\"here's the current list: \")\n",
    "    print(game_list)\n",
    "\n",
    "# position choice function\n",
    "def position_choice():\n",
    "    choice = \"WRONG\"\n",
    "    \n",
    "    while choice not in ['0', '1', '2']:\n",
    "        choice = input(\"Pick a position (0,1,2): \")\n",
    "\n",
    "        if choice not in [ '0', '1', '2']:\n",
    "            print (\"Sorry, invalid choice! \")\n",
    "\n",
    "    return int(choice)\n",
    "\n",
    "# choosing a replacement value with a function that takes in the game_list and the position\n",
    "def replacement_choice(game_list, position):\n",
    "    user_placement = input(\"Type a string to place at position: \")\n",
    "    game_list[position] = user_placement\n",
    "\n",
    "    return game_list\n",
    "\n",
    "# To verify that the user wants to keep on playing:\n",
    "def gameon_choice():\n",
    "    choice = 'wrong'\n",
    "\n",
    "    while choice not in ['Y', 'N']:\n",
    "        choice = input(\"Do you want to keep on playing? (Y or N) \")\n",
    "\n",
    "        if choice not in ['Y', 'N']:\n",
    "            print(\"Sorry, invalid choice! (Y or N) \")\n",
    "\n",
    "    if choice == \"Y\":\n",
    "        return True\n",
    "    else:\n",
    "        return False\n",
    "\n",
    "        "
   ]
  },
  {
   "cell_type": "code",
   "execution_count": 11,
   "metadata": {},
   "outputs": [
    {
     "name": "stdout",
     "output_type": "stream",
     "text": [
      "here's the current list: \n",
      "[0, 1, 2]\n",
      "Sorry, invalid choice! \n",
      "here's the current list: \n",
      "[0, 'my choice', 2]\n",
      "Sorry, invalid choice! \n",
      "here's the current list: \n",
      "[0, 'my choice', 2]\n",
      "here's the current list: \n",
      "[0, 'my choice', 'test']\n"
     ]
    }
   ],
   "source": [
    "game_on = True\n",
    "game_list = [0,1,2]\n",
    "\n",
    "while game_on:\n",
    "    display_game(game_list)\n",
    "\n",
    "    position = position_choice()\n",
    "    \n",
    "    game_list = replacement_choice(game_list, position)\n",
    "\n",
    "    display_game(game_list)\n",
    "\n",
    "    game_on = gameon_choice()"
   ]
  },
  {
   "cell_type": "code",
   "execution_count": null,
   "metadata": {},
   "outputs": [],
   "source": []
  }
 ],
 "metadata": {
  "interpreter": {
   "hash": "b4cec539aa4ea8220d5adce46c9b10a6931bee503673b75adc7e478a5925cf6b"
  },
  "kernelspec": {
   "display_name": "Python 3.8.8 ('base')",
   "language": "python",
   "name": "python3"
  },
  "language_info": {
   "codemirror_mode": {
    "name": "ipython",
    "version": 3
   },
   "file_extension": ".py",
   "mimetype": "text/x-python",
   "name": "python",
   "nbconvert_exporter": "python",
   "pygments_lexer": "ipython3",
   "version": "3.8.8"
  },
  "orig_nbformat": 4
 },
 "nbformat": 4,
 "nbformat_minor": 2
}
