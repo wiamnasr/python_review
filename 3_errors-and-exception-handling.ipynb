{
 "cells": [
  {
   "cell_type": "markdown",
   "metadata": {},
   "source": [
    "### Errors and Exception Handling\n",
    "\n",
    "##### Three keywords are used for this:\n",
    "\n",
    ">   try: The block of code to be attempted -> May lead to an error\n",
    "\n",
    ">   except: if there s an error in the try block, this block of code will execute\n",
    "\n",
    ">   finally: executed at the end regardless of an error"
   ]
  },
  {
   "cell_type": "code",
   "execution_count": 5,
   "metadata": {},
   "outputs": [
    {
     "name": "stdout",
     "output_type": "stream",
     "text": [
      "something is not adding right!\n"
     ]
    }
   ],
   "source": [
    "try:\n",
    "    result = 1 + \"1\"\n",
    "except:\n",
    "    print(\"something is not adding right!\")\n",
    "else:\n",
    "    print(\"All went well\")\n",
    "    print(result)\n"
   ]
  },
  {
   "cell_type": "code",
   "execution_count": null,
   "metadata": {},
   "outputs": [],
   "source": []
  },
  {
   "cell_type": "code",
   "execution_count": null,
   "metadata": {},
   "outputs": [],
   "source": []
  },
  {
   "cell_type": "code",
   "execution_count": null,
   "metadata": {},
   "outputs": [],
   "source": []
  },
  {
   "cell_type": "markdown",
   "metadata": {},
   "source": []
  }
 ],
 "metadata": {
  "interpreter": {
   "hash": "b4cec539aa4ea8220d5adce46c9b10a6931bee503673b75adc7e478a5925cf6b"
  },
  "kernelspec": {
   "display_name": "Python 3.8.8 ('base')",
   "language": "python",
   "name": "python3"
  },
  "language_info": {
   "codemirror_mode": {
    "name": "ipython",
    "version": 3
   },
   "file_extension": ".py",
   "mimetype": "text/x-python",
   "name": "python",
   "nbconvert_exporter": "python",
   "pygments_lexer": "ipython3",
   "version": "3.8.8"
  },
  "orig_nbformat": 4
 },
 "nbformat": 4,
 "nbformat_minor": 2
}
