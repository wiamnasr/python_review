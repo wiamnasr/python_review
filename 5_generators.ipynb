{
 "cells": [
  {
   "cell_type": "markdown",
   "metadata": {},
   "source": [
    "### Generator Functions allow us to write a function that can send back a value and then later resume to pick up where it left off\n",
    "\n",
    ">   #### Generators allow us to generate a sequence of value over time, instead of having to create an entire sequence and hold it in memory\n",
    "\n",
    ">   #### The main difference in the syntax in programming is the use of a \"yield\" keyword statement\n",
    "\n",
    ">   #### When generator functions are compiled, they become an object that supports an iteration protocol. That means when called in the code, they do not return a value then exit, instead, they automatically suspend and resume their execution and state around the last point of value generation\n",
    "\n",
    ">   #### The advantage here lies instead of having to compute an entire series of values upfront and hold it in memory, the generator computes one value, then waits until the next value is called for\n",
    "\n",
    "\n",
    "range() is a generator for instance\n",
    "\n",
    "#### Creating our own generators:\n",
    "\n"
   ]
  },
  {
   "cell_type": "code",
   "execution_count": 6,
   "metadata": {},
   "outputs": [
    {
     "name": "stdout",
     "output_type": "stream",
     "text": [
      "0\n",
      "1\n",
      "8\n",
      "27\n",
      "64\n"
     ]
    }
   ],
   "source": [
    "# A Function that creates a list of cubes from 1 to n (user defined)\n",
    "def create_cubes(n):\n",
    "\n",
    "    for x in range(n):\n",
    "        # yield keyword substitutes the need to create an empty list then append to that list as we iterate through range and then returning the result after the for loop\n",
    "        # yield generates the result directly without having to save in memory -> way more memory efficient, yielding values as needed (as they come)\n",
    "        yield x**3\n",
    "\n",
    "for x in create_cubes(5):\n",
    "    print(x)\n"
   ]
  },
  {
   "cell_type": "code",
   "execution_count": 8,
   "metadata": {},
   "outputs": [
    {
     "data": {
      "text/plain": [
       "[0, 1, 8, 27, 64]"
      ]
     },
     "execution_count": 8,
     "metadata": {},
     "output_type": "execute_result"
    }
   ],
   "source": [
    "# If we ended up needing the actual list itself, we can cast it into a list:\n",
    "list(create_cubes(5))"
   ]
  },
  {
   "cell_type": "code",
   "execution_count": null,
   "metadata": {},
   "outputs": [],
   "source": []
  },
  {
   "cell_type": "markdown",
   "metadata": {},
   "source": [
    "#### Another example of Generators, creating a Fibonacci sequence"
   ]
  },
  {
   "cell_type": "code",
   "execution_count": 9,
   "metadata": {},
   "outputs": [
    {
     "name": "stdout",
     "output_type": "stream",
     "text": [
      "1\n",
      "1\n",
      "2\n",
      "3\n",
      "5\n",
      "8\n",
      "13\n",
      "21\n",
      "34\n",
      "55\n"
     ]
    }
   ],
   "source": [
    "def gen_fibon(n):\n",
    "    a = 1\n",
    "    b = 1\n",
    "\n",
    "    for i in range(n):\n",
    "        yield a\n",
    "\n",
    "        # In order to re-calculate a and b for the fibonacci sequence, we do tuple matching\n",
    "        # This allows us to avoid any issues when trying to re-assign a and b when we are still working with them\n",
    "        a, b = b, a+b\n",
    "\n",
    "\n",
    "for number in gen_fibon(10):\n",
    "    print(number)\n"
   ]
  },
  {
   "cell_type": "code",
   "execution_count": null,
   "metadata": {},
   "outputs": [],
   "source": []
  },
  {
   "cell_type": "code",
   "execution_count": null,
   "metadata": {},
   "outputs": [],
   "source": []
  },
  {
   "cell_type": "markdown",
   "metadata": {},
   "source": [
    "#### The \"next\" function, demonstrates how the generator object is remembering what the previous value was and then returning the next value given whatever formula its following -> Not holding everything in memory like the conventional approach"
   ]
  },
  {
   "cell_type": "code",
   "execution_count": 13,
   "metadata": {},
   "outputs": [
    {
     "name": "stdout",
     "output_type": "stream",
     "text": [
      "0\n",
      "1\n",
      "2\n"
     ]
    },
    {
     "data": {
      "text/plain": [
       "<generator object simple_gen at 0x7f7a06a9a120>"
      ]
     },
     "execution_count": 13,
     "metadata": {},
     "output_type": "execute_result"
    }
   ],
   "source": [
    "def simple_gen():\n",
    "    for x in range(3):\n",
    "        yield x\n",
    "\n",
    "\n",
    "for number in simple_gen():\n",
    "    print(number)\n",
    "\n",
    "g = simple_gen()\n",
    "\n",
    "g"
   ]
  },
  {
   "cell_type": "code",
   "execution_count": 14,
   "metadata": {},
   "outputs": [
    {
     "name": "stdout",
     "output_type": "stream",
     "text": [
      "0\n",
      "1\n"
     ]
    }
   ],
   "source": [
    "print(next(g))\n",
    "print(next(g))"
   ]
  },
  {
   "cell_type": "code",
   "execution_count": 19,
   "metadata": {},
   "outputs": [
    {
     "ename": "StopIteration",
     "evalue": "",
     "output_type": "error",
     "traceback": [
      "\u001b[0;31m---------------------------------------------------------------------------\u001b[0m",
      "\u001b[0;31mStopIteration\u001b[0m                             Traceback (most recent call last)",
      "\u001b[0;32m/tmp/ipykernel_59116/316705663.py\u001b[0m in \u001b[0;36m<module>\u001b[0;34m\u001b[0m\n\u001b[1;32m      1\u001b[0m \u001b[0;31m# eventually, when we reach the end of the range it will throw a StopIteration error -> After \"yielding\" all the values, next() calls a StopIteration Error informing us that all values have been yielded\u001b[0m\u001b[0;34m\u001b[0m\u001b[0;34m\u001b[0m\u001b[0;34m\u001b[0m\u001b[0m\n\u001b[0;32m----> 2\u001b[0;31m \u001b[0mprint\u001b[0m\u001b[0;34m(\u001b[0m\u001b[0mnext\u001b[0m\u001b[0;34m(\u001b[0m\u001b[0mg\u001b[0m\u001b[0;34m)\u001b[0m\u001b[0;34m)\u001b[0m\u001b[0;34m\u001b[0m\u001b[0;34m\u001b[0m\u001b[0m\n\u001b[0m",
      "\u001b[0;31mStopIteration\u001b[0m: "
     ]
    }
   ],
   "source": [
    "# eventually, when we reach the end of the range it will throw a StopIteration error -> After \"yielding\" all the values, next() calls a StopIteration Error informing us that all values have been yielded\n",
    "# a traditional for loop automatically catches this error and stops calling next -> Hence we don't get this error with a for loop\n",
    "print(next(g))"
   ]
  },
  {
   "cell_type": "code",
   "execution_count": null,
   "metadata": {},
   "outputs": [],
   "source": []
  },
  {
   "cell_type": "code",
   "execution_count": null,
   "metadata": {},
   "outputs": [],
   "source": []
  },
  {
   "cell_type": "markdown",
   "metadata": {},
   "source": [
    "#### The \"iter\" function allows us to automatically iterate through a normal object that we may not expect\n",
    "\n",
    ">   ##### For instance, the str object does support iteration with a for loop, but we cannot directly iterate over it, like with a generator, using the next() function\n",
    "\n",
    ">   ##### To turn a string into a generator so we can directly iterate over it, we put to use the \"iter()\" function"
   ]
  },
  {
   "cell_type": "code",
   "execution_count": 23,
   "metadata": {},
   "outputs": [
    {
     "data": {
      "text/plain": [
       "'h'"
      ]
     },
     "execution_count": 23,
     "metadata": {},
     "output_type": "execute_result"
    }
   ],
   "source": [
    "s = \"hello\"\n",
    "\n",
    "s_iter = iter(s)\n",
    "\n",
    "next(s_iter)\n",
    "\n"
   ]
  },
  {
   "cell_type": "code",
   "execution_count": 24,
   "metadata": {},
   "outputs": [
    {
     "data": {
      "text/plain": [
       "'e'"
      ]
     },
     "execution_count": 24,
     "metadata": {},
     "output_type": "execute_result"
    }
   ],
   "source": [
    "next(s_iter)"
   ]
  },
  {
   "cell_type": "code",
   "execution_count": null,
   "metadata": {},
   "outputs": [],
   "source": []
  }
 ],
 "metadata": {
  "interpreter": {
   "hash": "916dbcbb3f70747c44a77c7bcd40155683ae19c65e1c03b4aa3499c5328201f1"
  },
  "kernelspec": {
   "display_name": "Python 3.8.10 64-bit",
   "language": "python",
   "name": "python3"
  },
  "language_info": {
   "codemirror_mode": {
    "name": "ipython",
    "version": 3
   },
   "file_extension": ".py",
   "mimetype": "text/x-python",
   "name": "python",
   "nbconvert_exporter": "python",
   "pygments_lexer": "ipython3",
   "version": "3.8.8"
  },
  "orig_nbformat": 4
 },
 "nbformat": 4,
 "nbformat_minor": 2
}
