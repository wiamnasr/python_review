{
 "cells": [
  {
   "cell_type": "markdown",
   "metadata": {},
   "source": [
    "### The basic way of defining an object is with the \"class\" keyword (Objects are sometimes referred to as Classes in Python)\n",
    "\n",
    "    class NameOfClass():\n",
    "    \n",
    "\n",
    "        <!-- creating a method (function within an object/class call). __init__ allows us to create an instance of the actual object. self keyword and params are expected to be passed when creating an instance of this object   -->\n",
    "\n",
    "        def __init__(self, param1, param2):\n",
    "\n",
    "            <!-- connecting the parameter to link it to the actual object itself -->\n",
    "\n",
    "            self.param1 = param1\n",
    "            \n",
    "            self.param2 = param2\n",
    "\n",
    "            \n",
    "\n",
    "        def some_method(self):\n",
    "\n",
    "            <!-- perform some action -->\n",
    "\n",
    "            print(self.param1)\n",
    "\n",
    "\n",
    "\n"
   ]
  },
  {
   "cell_type": "markdown",
   "metadata": {},
   "source": [
    "### Attributes and the Class keyword:"
   ]
  },
  {
   "cell_type": "code",
   "execution_count": 2,
   "metadata": {},
   "outputs": [
    {
     "data": {
      "text/plain": [
       "__main__.Sample"
      ]
     },
     "execution_count": 2,
     "metadata": {},
     "output_type": "execute_result"
    }
   ],
   "source": [
    "# Creating a simple class\n",
    "class Sample():\n",
    "    pass\n",
    "\n",
    "# creating an instance of the sample class\n",
    "my_sample = Sample()\n",
    "\n",
    "type(my_sample)"
   ]
  },
  {
   "cell_type": "code",
   "execution_count": 18,
   "metadata": {},
   "outputs": [],
   "source": [
    "# circle class\n",
    "class Circle():\n",
    "\n",
    "    # Class Object Attribute\n",
    "    pi = 3.14\n",
    "\n",
    "    def __init__(self,radius=1):\n",
    "\n",
    "        self.radius = radius\n",
    "\n",
    "        self.area = radius*radius*self.pi\n",
    "        # since its a class object attribute, the above can be referred to as Circle.pi instead of self.pi -> it will be the same regardless of the instance of the class\n",
    "\n",
    "    # Method\n",
    "    def get_circumference(self):\n",
    "        return self.radius * self.pi * 2"
   ]
  },
  {
   "cell_type": "code",
   "execution_count": 19,
   "metadata": {},
   "outputs": [],
   "source": [
    "# creating an instance of the circle:\n",
    "# over-writing the default value of the radius with 30 instead of 1\n",
    "my_circle = Circle(30)\n"
   ]
  },
  {
   "cell_type": "code",
   "execution_count": 20,
   "metadata": {},
   "outputs": [
    {
     "data": {
      "text/plain": [
       "3.14"
      ]
     },
     "execution_count": 20,
     "metadata": {},
     "output_type": "execute_result"
    }
   ],
   "source": [
    "my_circle.pi"
   ]
  },
  {
   "cell_type": "code",
   "execution_count": 21,
   "metadata": {},
   "outputs": [
    {
     "data": {
      "text/plain": [
       "30"
      ]
     },
     "execution_count": 21,
     "metadata": {},
     "output_type": "execute_result"
    }
   ],
   "source": [
    "my_circle.radius"
   ]
  },
  {
   "cell_type": "code",
   "execution_count": 22,
   "metadata": {},
   "outputs": [
    {
     "data": {
      "text/plain": [
       "2826.0"
      ]
     },
     "execution_count": 22,
     "metadata": {},
     "output_type": "execute_result"
    }
   ],
   "source": [
    "my_circle.area"
   ]
  },
  {
   "cell_type": "code",
   "execution_count": 23,
   "metadata": {},
   "outputs": [
    {
     "data": {
      "text/plain": [
       "188.4"
      ]
     },
     "execution_count": 23,
     "metadata": {},
     "output_type": "execute_result"
    }
   ],
   "source": [
    "my_circle.get_circumference()"
   ]
  },
  {
   "cell_type": "code",
   "execution_count": null,
   "metadata": {},
   "outputs": [],
   "source": []
  },
  {
   "cell_type": "markdown",
   "metadata": {},
   "source": [
    "### Inheritance\n",
    "\n",
    "##### Inheritance is a way to form new classes using classes that have already been defined -> Code re-usability and complexity reduction"
   ]
  },
  {
   "cell_type": "code",
   "execution_count": 35,
   "metadata": {},
   "outputs": [],
   "source": [
    "# Creating a base class\n",
    "class Animal():\n",
    "    def __init__(self):\n",
    "        print(\"Animal Created\")\n",
    "\n",
    "    def who_am_i(self):\n",
    "        print(\"I am an animal\")\n",
    "\n",
    "    def eat(self):\n",
    "        print(\"I am eating\")\n",
    "\n",
    "\n",
    "# Newly formed classes, can use the Animal class in order to inherit some of its methods that we may want to use again\n",
    "\n",
    "# re-creating the Dog class, passing in Animal in order to inherit from the base class\n",
    "# This is called a derived class\n",
    "class Dog(Animal):\n",
    "\n",
    "    def __init__(self):\n",
    "        # Creating an instance of the Animal class when we are creating an instance of the Dog class\n",
    "        # This is possible because we are inheriting from the Animal class\n",
    "        Animal.__init__(self)\n",
    "        print(\"Dog Created\")\n",
    "\n",
    "    # changing the inherited method for the Dog class:\n",
    "    def who_am_i(self):\n",
    "        print(\"I am a Dog!\")\n",
    "\n",
    "    def bark(self):\n",
    "        print(\"Woof!\")"
   ]
  },
  {
   "cell_type": "code",
   "execution_count": 36,
   "metadata": {},
   "outputs": [
    {
     "name": "stdout",
     "output_type": "stream",
     "text": [
      "Animal Created\n",
      "Dog Created\n"
     ]
    }
   ],
   "source": [
    "my_dog = Dog()"
   ]
  },
  {
   "cell_type": "code",
   "execution_count": 37,
   "metadata": {},
   "outputs": [
    {
     "name": "stdout",
     "output_type": "stream",
     "text": [
      "I am eating\n"
     ]
    }
   ],
   "source": [
    "# using the methods derived from the base class Animal:\n",
    "my_dog.eat()"
   ]
  },
  {
   "cell_type": "code",
   "execution_count": 38,
   "metadata": {},
   "outputs": [
    {
     "name": "stdout",
     "output_type": "stream",
     "text": [
      "I am a Dog!\n"
     ]
    }
   ],
   "source": [
    "# This method was initially inherited, but then we re-wrote it for the Dog class\n",
    "my_dog.who_am_i()"
   ]
  },
  {
   "cell_type": "code",
   "execution_count": 39,
   "metadata": {},
   "outputs": [
    {
     "name": "stdout",
     "output_type": "stream",
     "text": [
      "Woof!\n"
     ]
    }
   ],
   "source": [
    "my_dog.bark()"
   ]
  },
  {
   "cell_type": "code",
   "execution_count": null,
   "metadata": {},
   "outputs": [],
   "source": []
  },
  {
   "cell_type": "markdown",
   "metadata": {},
   "source": [
    "### Polymorphism\n",
    "\n",
    "##### Polymorphism refers to the way in which different object classes can share the same method name\n",
    "\n",
    "##### Those methods can be called from the same place even though different objects might be passed in"
   ]
  },
  {
   "cell_type": "code",
   "execution_count": 42,
   "metadata": {},
   "outputs": [
    {
     "data": {
      "text/plain": [
       "'felix says Meow! '"
      ]
     },
     "execution_count": 42,
     "metadata": {},
     "output_type": "execute_result"
    }
   ],
   "source": [
    "# Creating 2 new classes, redefining the Dog class and creating a new Cat class:\n",
    "\n",
    "class Dog():\n",
    "    def __init__(self, name):\n",
    "        self.name =name\n",
    "\n",
    "    def speak(self):\n",
    "        return self.name + \" says Woof! \"\n",
    "\n",
    "class Cat():\n",
    "    def __init__(self, name):\n",
    "        self.name =name\n",
    "\n",
    "    def speak(self):\n",
    "        return self.name + \" says Meow! \"\n",
    "\n",
    "\n",
    "# creating 2 instances:\n",
    "niko =Dog(\"niko\")\n",
    "felix = Cat(\"felix\")\n",
    "\n",
    "felix.speak()"
   ]
  },
  {
   "cell_type": "code",
   "execution_count": 43,
   "metadata": {},
   "outputs": [
    {
     "data": {
      "text/plain": [
       "'niko says Woof! '"
      ]
     },
     "execution_count": 43,
     "metadata": {},
     "output_type": "execute_result"
    }
   ],
   "source": [
    "niko.speak()"
   ]
  },
  {
   "cell_type": "code",
   "execution_count": 45,
   "metadata": {},
   "outputs": [
    {
     "name": "stdout",
     "output_type": "stream",
     "text": [
      "<class '__main__.Dog'>\n",
      "<class 'str'>\n",
      "<class '__main__.Cat'>\n",
      "<class 'str'>\n"
     ]
    }
   ],
   "source": [
    "# demonstrating polymorphism with a for loop\n",
    "# Both niko and felix share the same method name, called speak, however, in the outcome there are different types (__main__.Dog and __main__.Cat)\n",
    "for pet in [niko, felix]:\n",
    "    print(type(pet))\n",
    "    print(type(pet.speak()))"
   ]
  },
  {
   "cell_type": "code",
   "execution_count": 47,
   "metadata": {},
   "outputs": [
    {
     "name": "stdout",
     "output_type": "stream",
     "text": [
      "niko says Woof! \n"
     ]
    }
   ],
   "source": [
    "# demonstrating polymorphism using a function:\n",
    "def pet_speak(pet):\n",
    "    print(pet.speak())\n",
    "\n",
    "pet_speak(niko)\n"
   ]
  },
  {
   "cell_type": "code",
   "execution_count": null,
   "metadata": {},
   "outputs": [],
   "source": []
  }
 ],
 "metadata": {
  "interpreter": {
   "hash": "916dbcbb3f70747c44a77c7bcd40155683ae19c65e1c03b4aa3499c5328201f1"
  },
  "kernelspec": {
   "display_name": "Python 3.8.10 64-bit",
   "language": "python",
   "name": "python3"
  },
  "language_info": {
   "codemirror_mode": {
    "name": "ipython",
    "version": 3
   },
   "file_extension": ".py",
   "mimetype": "text/x-python",
   "name": "python",
   "nbconvert_exporter": "python",
   "pygments_lexer": "ipython3",
   "version": "3.8.8"
  },
  "orig_nbformat": 4
 },
 "nbformat": 4,
 "nbformat_minor": 2
}
