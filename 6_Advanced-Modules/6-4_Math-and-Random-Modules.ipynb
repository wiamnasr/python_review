{
 "cells": [
  {
   "cell_type": "markdown",
   "metadata": {},
   "source": [
    "### Math Module: "
   ]
  },
  {
   "cell_type": "code",
   "execution_count": 3,
   "metadata": {},
   "outputs": [
    {
     "name": "stdout",
     "output_type": "stream",
     "text": [
      "Floored: 4\n",
      "Ceil: 5\n",
      "True rounding: 4\n"
     ]
    }
   ],
   "source": [
    "import math\n",
    "\n",
    "value = 4.35\n",
    "\n",
    "# Rounding numbers down\n",
    "print(f\"Floored: {math.floor(value)}\")\n",
    "\n",
    "# Rounding up\n",
    "print(f\"Ceil: {math.ceil(value)}\")\n",
    "\n",
    "# True rounding, built in python itself -> Goes to the nearest\n",
    "print(f\"True rounding: {round(value)}\")\n"
   ]
  },
  {
   "cell_type": "code",
   "execution_count": null,
   "metadata": {},
   "outputs": [],
   "source": []
  },
  {
   "cell_type": "markdown",
   "metadata": {},
   "source": [
    "### Random Module:\n",
    "\n",
    ">   #### Allows us to create random numbers\n",
    "\n",
    ">   #### We can set a seed to produce the same random set every time -> particularly useful for testing (to test the same code over and over again with the same random set)\n",
    "\n",
    "\n",
    "Computers use pseudo-random number generators -> show something that looks random"
   ]
  },
  {
   "cell_type": "code",
   "execution_count": 7,
   "metadata": {},
   "outputs": [
    {
     "data": {
      "text/plain": [
       "74"
      ]
     },
     "execution_count": 7,
     "metadata": {},
     "output_type": "execute_result"
    }
   ],
   "source": [
    "# Understanding the seed\n",
    "\n",
    "import random\n",
    "\n",
    "# return a random integer in range a and b inclusive\n",
    "# setting a seed that allows us to start from a seeded pseudo-random number generator -> meaning the same random numbers will show up in a series\n",
    "\n",
    "random.seed(101)\n",
    "random.randint(0, 100)"
   ]
  },
  {
   "cell_type": "code",
   "execution_count": 9,
   "metadata": {},
   "outputs": [
    {
     "data": {
      "text/plain": [
       "12"
      ]
     },
     "execution_count": 9,
     "metadata": {},
     "output_type": "execute_result"
    }
   ],
   "source": [
    "# random from a list\n",
    "mylist = [1,2,3,4,5,6,7,8,9,10,11,12,13,14,15,16,17]\n",
    "\n",
    "random.choice(mylist)"
   ]
  },
  {
   "cell_type": "code",
   "execution_count": 13,
   "metadata": {},
   "outputs": [
    {
     "name": "stdout",
     "output_type": "stream",
     "text": [
      "random.choices(), with replacement: [8, 7, 12, 1, 8, 10]\n",
      "random.sample(), without replacement: [12, 1, 6, 17, 15, 16]\n",
      "Shuffled list: [15, 10, 17, 11, 4, 12, 8, 6, 14, 13, 2, 16, 3, 7, 1, 5, 9]\n"
     ]
    }
   ],
   "source": [
    "# grabbing multiple random items from a list, 2 options\n",
    "\n",
    "# Sampling with replacement -> allowing the same number to be picked more than once\n",
    "# random.choices() takes 2 parametes, the population (what you are actually picking from) and then k (how many items we want to pick randomly)\n",
    "print(f\"random.choices(), with replacement: {random.choices(population=mylist, k=6)}\")\n",
    "\n",
    "# or sampling without replacement -> once an item from the list has been picked, it cannot be picked again\n",
    "print(f\"random.sample(), without replacement: {random.sample(population=mylist, k=6)}\")\n",
    "\n",
    "# shuffling a list happens in place and will permanently affect the list -> no need to assign the result to anything\n",
    "random.shuffle(mylist)\n",
    "print(f\"Shuffled list: {mylist}\")"
   ]
  },
  {
   "cell_type": "code",
   "execution_count": null,
   "metadata": {},
   "outputs": [],
   "source": []
  },
  {
   "cell_type": "code",
   "execution_count": null,
   "metadata": {},
   "outputs": [],
   "source": []
  },
  {
   "cell_type": "code",
   "execution_count": null,
   "metadata": {},
   "outputs": [],
   "source": []
  }
 ],
 "metadata": {
  "interpreter": {
   "hash": "916dbcbb3f70747c44a77c7bcd40155683ae19c65e1c03b4aa3499c5328201f1"
  },
  "kernelspec": {
   "display_name": "Python 3.8.10 64-bit",
   "language": "python",
   "name": "python3"
  },
  "language_info": {
   "codemirror_mode": {
    "name": "ipython",
    "version": 3
   },
   "file_extension": ".py",
   "mimetype": "text/x-python",
   "name": "python",
   "nbconvert_exporter": "python",
   "pygments_lexer": "ipython3",
   "version": "3.8.8"
  },
  "orig_nbformat": 4
 },
 "nbformat": 4,
 "nbformat_minor": 2
}
