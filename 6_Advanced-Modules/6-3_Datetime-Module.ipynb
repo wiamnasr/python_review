{
 "cells": [
  {
   "cell_type": "markdown",
   "metadata": {},
   "source": [
    "#### Datetime module: Allows us to create objects that have information, not just about the date and time, but also things like timezone and operations between datetime objects (how many days have passed?)"
   ]
  },
  {
   "cell_type": "code",
   "execution_count": 1,
   "metadata": {},
   "outputs": [],
   "source": [
    "import datetime"
   ]
  },
  {
   "cell_type": "code",
   "execution_count": 2,
   "metadata": {},
   "outputs": [
    {
     "data": {
      "text/plain": [
       "20"
      ]
     },
     "execution_count": 2,
     "metadata": {},
     "output_type": "execute_result"
    }
   ],
   "source": [
    "# Creating a datetime object, takes a couple of arguments: hour, minute, second, microsecond, tzinfo (timezone information)\n",
    "# If certain information was not provided, it will automatically fill it in\n",
    "# below example, providing only the hour and the minute\n",
    "mytime = datetime.time(2, 20)\n",
    "\n",
    "# accessing minute attribute\n",
    "mytime.minute"
   ]
  },
  {
   "cell_type": "code",
   "execution_count": 3,
   "metadata": {},
   "outputs": [
    {
     "data": {
      "text/plain": [
       "2"
      ]
     },
     "execution_count": 3,
     "metadata": {},
     "output_type": "execute_result"
    }
   ],
   "source": [
    "mytime.hour"
   ]
  },
  {
   "cell_type": "code",
   "execution_count": 4,
   "metadata": {},
   "outputs": [
    {
     "name": "stdout",
     "output_type": "stream",
     "text": [
      "02:20:00\n"
     ]
    }
   ],
   "source": [
    "print(mytime)"
   ]
  },
  {
   "cell_type": "code",
   "execution_count": 5,
   "metadata": {},
   "outputs": [
    {
     "data": {
      "text/plain": [
       "datetime.time"
      ]
     },
     "execution_count": 5,
     "metadata": {},
     "output_type": "execute_result"
    }
   ],
   "source": [
    "type(mytime)"
   ]
  },
  {
   "cell_type": "code",
   "execution_count": null,
   "metadata": {},
   "outputs": [],
   "source": []
  },
  {
   "cell_type": "markdown",
   "metadata": {},
   "source": [
    "#### Exploring date objects:\n",
    "\n",
    ">   #### Using the datetime module, we implement many methods, such as today() to get current datetime:"
   ]
  },
  {
   "cell_type": "code",
   "execution_count": 9,
   "metadata": {},
   "outputs": [
    {
     "name": "stdout",
     "output_type": "stream",
     "text": [
      "2022-04-26\n",
      "2022\n",
      "4\n",
      "26\n"
     ]
    }
   ],
   "source": [
    "today = datetime.date.today()\n",
    "print(today)\n",
    "print(today.year)\n",
    "print(today.month)\n",
    "print(today.day)"
   ]
  },
  {
   "cell_type": "code",
   "execution_count": null,
   "metadata": {},
   "outputs": [],
   "source": []
  },
  {
   "cell_type": "markdown",
   "metadata": {},
   "source": [
    ">   #### Python allows us to return something called ctime formatting, which is another way of formatting the above along with some time information:"
   ]
  },
  {
   "cell_type": "code",
   "execution_count": 10,
   "metadata": {},
   "outputs": [
    {
     "data": {
      "text/plain": [
       "'Tue Apr 26 00:00:00 2022'"
      ]
     },
     "execution_count": 10,
     "metadata": {},
     "output_type": "execute_result"
    }
   ],
   "source": [
    "today.ctime()"
   ]
  },
  {
   "cell_type": "code",
   "execution_count": null,
   "metadata": {},
   "outputs": [],
   "source": []
  },
  {
   "cell_type": "markdown",
   "metadata": {},
   "source": [
    ">   #### Adding datetime information by importing datetime from datetime -> takes in year, month and day, as well as everything from hour, minute, second, microsecond and tzinfo (timezone information)"
   ]
  },
  {
   "cell_type": "code",
   "execution_count": 19,
   "metadata": {},
   "outputs": [
    {
     "name": "stdout",
     "output_type": "stream",
     "text": [
      "2021-10-03 11:32:10\n"
     ]
    }
   ],
   "source": [
    "from datetime import datetime\n",
    "\n",
    "mydatetime = datetime(2021, 10, 3, 11, 32, 10)\n",
    "\n",
    "# information is always printed from the largest time-scale to the smallest\n",
    "print(mydatetime)\n"
   ]
  },
  {
   "cell_type": "code",
   "execution_count": 21,
   "metadata": {},
   "outputs": [
    {
     "name": "stdout",
     "output_type": "stream",
     "text": [
      "2018-10-03 11:32:10\n"
     ]
    }
   ],
   "source": [
    "# replacing:\n",
    "mydatetime = mydatetime.replace(year=2018)\n",
    "print(mydatetime)"
   ]
  },
  {
   "cell_type": "code",
   "execution_count": null,
   "metadata": {},
   "outputs": [],
   "source": []
  },
  {
   "cell_type": "markdown",
   "metadata": {},
   "source": [
    ">   ### Performing simple arithmetics to the datetime object -> example, a user logged in to the website on a certain date time, and then log out at another time, simple arithmetics with datetime object allows us to figure out how long the user was logged in for instance.\n",
    "\n",
    "\n",
    ">   ### Simple arithmetics can be performed on both date object and datetime object"
   ]
  },
  {
   "cell_type": "code",
   "execution_count": 27,
   "metadata": {},
   "outputs": [
    {
     "name": "stdout",
     "output_type": "stream",
     "text": [
      "<class 'datetime.timedelta'>\n",
      "761\n"
     ]
    }
   ],
   "source": [
    "# With just date information:\n",
    "\n",
    "# This is the same as saying datetime.date\n",
    "from datetime import date\n",
    "\n",
    "# creating 2 dates\n",
    "date1 = date(2020, 12, 6)\n",
    "date2 = date(2018, 11, 6)\n",
    "\n",
    "# performing direct arithmetics on the dates to figure out the difference between them -> careful with leap years if the difference between the dates is more than one year in days\n",
    "result = date1 - date2\n",
    "\n",
    "# The return is a timedelta object reporting the difference in the number of days for 2 date objects\n",
    "print(type(result))\n",
    "print(result.days)"
   ]
  },
  {
   "cell_type": "code",
   "execution_count": null,
   "metadata": {},
   "outputs": [],
   "source": []
  },
  {
   "cell_type": "code",
   "execution_count": 32,
   "metadata": {},
   "outputs": [
    {
     "name": "stdout",
     "output_type": "stream",
     "text": [
      "366 days, 10:00:00\n",
      "36000\n",
      "31658400.0\n"
     ]
    }
   ],
   "source": [
    "# Performing Arithmetics on a datetime object\n",
    "\n",
    "datetime1 = datetime(2020, 10, 5, 22, 0)\n",
    "datetime2 = datetime(2019, 10, 5, 12, 0)\n",
    "\n",
    "mydiff = datetime1 - datetime2\n",
    "\n",
    "# The return are 2 points of information, the days and the seconds -> 36000/60 to get minutes to get min then /60 to get hours -> 1 year and 10 hours apart\n",
    "print(mydiff)\n",
    "print(mydiff.seconds)\n",
    "\n",
    "# everything reported as seconds\n",
    "print(mydiff.total_seconds())"
   ]
  },
  {
   "cell_type": "code",
   "execution_count": null,
   "metadata": {},
   "outputs": [],
   "source": []
  },
  {
   "cell_type": "code",
   "execution_count": null,
   "metadata": {},
   "outputs": [],
   "source": []
  },
  {
   "cell_type": "code",
   "execution_count": null,
   "metadata": {},
   "outputs": [],
   "source": []
  },
  {
   "cell_type": "code",
   "execution_count": null,
   "metadata": {},
   "outputs": [],
   "source": []
  },
  {
   "cell_type": "code",
   "execution_count": null,
   "metadata": {},
   "outputs": [],
   "source": []
  },
  {
   "cell_type": "code",
   "execution_count": null,
   "metadata": {},
   "outputs": [],
   "source": []
  },
  {
   "cell_type": "code",
   "execution_count": null,
   "metadata": {},
   "outputs": [],
   "source": []
  },
  {
   "cell_type": "code",
   "execution_count": null,
   "metadata": {},
   "outputs": [],
   "source": []
  },
  {
   "cell_type": "code",
   "execution_count": null,
   "metadata": {},
   "outputs": [],
   "source": []
  }
 ],
 "metadata": {
  "interpreter": {
   "hash": "916dbcbb3f70747c44a77c7bcd40155683ae19c65e1c03b4aa3499c5328201f1"
  },
  "kernelspec": {
   "display_name": "Python 3.8.10 64-bit",
   "language": "python",
   "name": "python3"
  },
  "language_info": {
   "codemirror_mode": {
    "name": "ipython",
    "version": 3
   },
   "file_extension": ".py",
   "mimetype": "text/x-python",
   "name": "python",
   "nbconvert_exporter": "python",
   "pygments_lexer": "ipython3",
   "version": "3.8.8"
  },
  "orig_nbformat": 4
 },
 "nbformat": 4,
 "nbformat_minor": 2
}
