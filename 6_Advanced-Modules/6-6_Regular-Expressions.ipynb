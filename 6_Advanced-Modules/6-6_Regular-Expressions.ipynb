{
 "cells": [
  {
   "cell_type": "markdown",
   "metadata": {},
   "source": [
    ">   ### Regular Expressions\n",
    "\n",
    "-   If we want to search for a pattern structure within a string for instance -> Searching for general patterns for instance emails \"xyz@xyz.com\" -> Regex shine here\n",
    "\n",
    ">   ### Python comes with a built in regular expressions library or re for short, that allows us to create specialized pattern strings and search for matches within text\n",
    "\n",
    "\n",
    "\n",
    "\n",
    "\n",
    "<hr />\n",
    "\n",
    "\n",
    "\n",
    "\n",
    "##### Understanding the special syntax for these pattern strings is the key to working well with Regex\n",
    "\n",
    ">   ### Understanding how to look up the relevant information to quickly find the appropriate/correct pattern -> Understanding how to convert what we are looking for into specialized pattern syntax and then we can look up the necessary patterns/quantifiers/identifiers that we need\n",
    "\n",
    "\n",
    "\n",
    "\n",
    "\n",
    "<hr />\n",
    "\n",
    "\n",
    "\n",
    "\n",
    ">   #### Phone number example:\n",
    "\n",
    "               (555)-555-5555\n",
    "\n",
    "### Regex Pattern:\n",
    "\n",
    "                <!-- The \"r\" informs python, especially when using the regex library not to treat this as a normal string, and to expect identifiers within this string -->\n",
    "                <!-- The \"\\\" backslashes correspond to the individual identifiers -->\n",
    "                r\"(\\d\\d\\d)-\\d\\d\\d-\\d\\d\\d\\d\"\n",
    "\n",
    "\n",
    "\n",
    "### The identifiers are like placeholders/wildcards, waiting for a match based off a particular data type\n",
    "\n",
    ">   #### Above \"\\d\" stands for digit -> looking for 3 or 4 digits in a row\n",
    "\n",
    ">   #### General identifiers and exact strings we are looking for construct a regex pattern\n",
    "\n",
    "\n",
    "\n",
    "<hr />\n",
    "\n",
    "\n",
    "#### Searching for basic patterns in text:\n",
    "\n",
    "\n"
   ]
  },
  {
   "cell_type": "code",
   "execution_count": 1,
   "metadata": {},
   "outputs": [
    {
     "data": {
      "text/plain": [
       "True"
      ]
     },
     "execution_count": 1,
     "metadata": {},
     "output_type": "execute_result"
    }
   ],
   "source": [
    "text = \"The phone number is 545-555-1234. Call soon!\"\n",
    "\n",
    "# we could search for simple strings in the text\n",
    "'phone' in text"
   ]
  },
  {
   "cell_type": "code",
   "execution_count": 18,
   "metadata": {},
   "outputs": [
    {
     "data": {
      "text/plain": [
       "<re.Match object; span=(3, 8), match='phone'>"
      ]
     },
     "execution_count": 18,
     "metadata": {},
     "output_type": "execute_result"
    }
   ],
   "source": [
    "# importing the regular expressions module\n",
    "import re\n",
    "\n",
    "pattern = 'phone'\n",
    "\n",
    "# This method returns much more information in a match object\n",
    "# the Match object reports whether or not there a match to the 'phone', but also where the actual index location span to (start and end)\n",
    "re.search(pattern, text)"
   ]
  },
  {
   "cell_type": "markdown",
   "metadata": {},
   "source": [
    ">   #### Looking for a pattern that's not present in the text:"
   ]
  },
  {
   "cell_type": "code",
   "execution_count": 6,
   "metadata": {},
   "outputs": [],
   "source": [
    "pattern = 'NOT IN TEXT'\n",
    "\n",
    "# Nothing is returned\n",
    "re.search(pattern, text)"
   ]
  },
  {
   "cell_type": "code",
   "execution_count": 9,
   "metadata": {},
   "outputs": [
    {
     "data": {
      "text/plain": [
       "<re.Match object; span=(4, 9), match='phone'>"
      ]
     },
     "execution_count": 9,
     "metadata": {},
     "output_type": "execute_result"
    }
   ],
   "source": [
    "# resetting pattern to phone\n",
    "pattern = 'phone'\n",
    "\n",
    "# saving it into a regex match object to explore\n",
    "match = re.search(pattern, text)\n",
    "\n",
    "match"
   ]
  },
  {
   "cell_type": "code",
   "execution_count": 12,
   "metadata": {},
   "outputs": [
    {
     "name": "stdout",
     "output_type": "stream",
     "text": [
      "getting the index location of the span: (4, 9)\n",
      "Start Index 4, and end index 9 of the matched\n"
     ]
    }
   ],
   "source": [
    "# The match object has a lot of information that we can grab from:\n",
    "\n",
    "print(f\"getting the index location of the span: {match.span()}\")\n",
    "\n",
    "print(f\"Start Index {match.start()}, and end index {match.end()} of the matched\")"
   ]
  },
  {
   "cell_type": "code",
   "execution_count": null,
   "metadata": {},
   "outputs": [],
   "source": []
  },
  {
   "cell_type": "markdown",
   "metadata": {},
   "source": [
    ">   ### If we had multiple matches inside a string, we would unfortunately only get back the first match:"
   ]
  },
  {
   "cell_type": "code",
   "execution_count": 19,
   "metadata": {},
   "outputs": [
    {
     "data": {
      "text/plain": [
       "<re.Match object; span=(3, 8), match='phone'>"
      ]
     },
     "execution_count": 19,
     "metadata": {},
     "output_type": "execute_result"
    }
   ],
   "source": [
    "text = 'my phone once, my phone twice'\n",
    "\n",
    "match = re.search('phone', text)\n",
    "\n",
    "# returns only one span, the first match\n",
    "match"
   ]
  },
  {
   "cell_type": "code",
   "execution_count": null,
   "metadata": {},
   "outputs": [],
   "source": []
  },
  {
   "cell_type": "markdown",
   "metadata": {},
   "source": [
    ">   ### \"re.findall()\" helps us find all the matches:"
   ]
  },
  {
   "cell_type": "code",
   "execution_count": 15,
   "metadata": {},
   "outputs": [
    {
     "data": {
      "text/plain": [
       "['phone', 'phone']"
      ]
     },
     "execution_count": 15,
     "metadata": {},
     "output_type": "execute_result"
    }
   ],
   "source": [
    "matches = re.findall('phone', text)\n",
    "\n",
    "# returns a list of how many matches we have\n",
    "matches"
   ]
  },
  {
   "cell_type": "code",
   "execution_count": null,
   "metadata": {},
   "outputs": [],
   "source": []
  },
  {
   "cell_type": "markdown",
   "metadata": {},
   "source": [
    ">   ### To get back the actual matched objects, we can use the iterator:"
   ]
  },
  {
   "cell_type": "code",
   "execution_count": 22,
   "metadata": {},
   "outputs": [
    {
     "name": "stdout",
     "output_type": "stream",
     "text": [
      "(3, 8)\n",
      "phone\n",
      "(18, 23)\n",
      "phone\n"
     ]
    }
   ],
   "source": [
    "# iterates though the text and returns each matched object it found\n",
    "\n",
    "for match in re.finditer(\"phone\", text):\n",
    "    print(match.span())\n",
    "\n",
    "    # returning the actual text that matched, using the group method\n",
    "    print(match.group())\n"
   ]
  },
  {
   "cell_type": "code",
   "execution_count": null,
   "metadata": {},
   "outputs": [],
   "source": []
  },
  {
   "cell_type": "markdown",
   "metadata": {},
   "source": [
    "<hr />\n",
    "\n",
    "## Special pattern code used to build out our own pattern sequences\n",
    "\n",
    "<hr />\n",
    "\n",
    ">   ### Character Identifiers:\n",
    "\n",
    "-   \\d: a Digit (file_25 -> file_\\d\\d)\n",
    "\n",
    "-   \\w: Alphanumeric (A-b_1 -> \\w-\\w_1)\n",
    "\n",
    "-   \\s: White space (a b c -> a\\sb\\sc)\n",
    "\n",
    "-   \\D: Non Digit (ABC -> \\D\\D\\D)\n",
    "\n",
    "-   \\W: Non-alphanumeric *-+=) -> \\W\\W\\W\\W\\W\n",
    "\n",
    "-   \\S: Non-whitespace Yoyo -> \\S\\S\\S\\S"
   ]
  },
  {
   "cell_type": "code",
   "execution_count": null,
   "metadata": {},
   "outputs": [],
   "source": []
  },
  {
   "cell_type": "code",
   "execution_count": 27,
   "metadata": {},
   "outputs": [
    {
     "name": "stdout",
     "output_type": "stream",
     "text": [
      "<re.Match object; span=(19, 31), match='543-333-2432'>\n",
      "The actual matched string: 543-333-2432\n"
     ]
    }
   ],
   "source": [
    "text = 'My phone number is 543-333-2432'\n",
    "\n",
    "# searching for the pattern itself\n",
    "phone = re.search(r'\\d\\d\\d-\\d\\d\\d-\\d\\d\\d\\d', text)\n",
    "\n",
    "print(phone)\n",
    "\n",
    "print(f\"The actual matched string: {phone.group()}\")"
   ]
  },
  {
   "cell_type": "code",
   "execution_count": null,
   "metadata": {},
   "outputs": [],
   "source": []
  },
  {
   "cell_type": "markdown",
   "metadata": {},
   "source": [
    ">   #### For longer digit patterns, its not so efficient to write that much \\d for each digit, for this reason, quantifiers are used to indicate repetition of the same character:\n",
    "\n",
    "\n",
    "#### Quantifiers:\n",
    "\n",
    "-   +: Occurs one or more times (Version A-b1_1 -> Version \\w-\\w+)\n",
    "\n",
    "-   {3}: Occurs exactly 3 times (abc -> \\D{3})\n",
    "\n",
    "-   {2,4}: Occurs 2 to 4 times (123 -> \\d{2,4})\n",
    "\n",
    "-   {3,}: Occurs 3 or more times (anycharacters -> \\w{3,})\n",
    "\n",
    "-   *: Occurs zero or more times (AAACC -> A\\*B\\*C\\*)\n",
    "\n",
    "-   ?: Once or none (plural -> plurals?)"
   ]
  },
  {
   "cell_type": "code",
   "execution_count": null,
   "metadata": {},
   "outputs": [],
   "source": []
  },
  {
   "cell_type": "code",
   "execution_count": 29,
   "metadata": {},
   "outputs": [
    {
     "name": "stdout",
     "output_type": "stream",
     "text": [
      "<re.Match object; span=(19, 31), match='543-333-2432'>\n",
      "The actual matched string: 543-333-2432\n"
     ]
    }
   ],
   "source": [
    "# Transforming the original search for a telephone number using quantifiers:\n",
    "phone = re.search(r'\\d{3}-\\d{3}-\\d{4}', text)\n",
    "print(phone)\n",
    "\n",
    "print(f\"The actual matched string: {phone.group()}\")"
   ]
  },
  {
   "cell_type": "code",
   "execution_count": null,
   "metadata": {},
   "outputs": [],
   "source": []
  },
  {
   "cell_type": "markdown",
   "metadata": {},
   "source": [
    ">   ### To accomplish two tasks at once, for instance find phone numbers and be quickly able to extract the area code -> The first three digits of the phone number, groups allows us to group regular expressions to later on break them down\n",
    "\n",
    "\n",
    ">   ### This is accomplished with the compile function, that compiles together different regular expression pattern codes\n",
    "\n",
    "#### The compile function takes in multiple pattern codes, and each pattern code is separated with a parenthesis as a group. The compile function, compiles them into a single expression. Using the compile, it still understands that these are three separate groupings and we can call the groupings individually:\n",
    "\n",
    "\n",
    ">   ### Important: Group ordering starts at 1 -> NOT zero indexed!"
   ]
  },
  {
   "cell_type": "code",
   "execution_count": 33,
   "metadata": {},
   "outputs": [
    {
     "name": "stdout",
     "output_type": "stream",
     "text": [
      "543-333-2432\n",
      "Calling the results by the groups position to extract area code for example, notice indexing starts at 1 not zero: 543\n",
      "Group 2: 333\n",
      "Group 3: 2432\n"
     ]
    },
    {
     "ename": "IndexError",
     "evalue": "no such group",
     "output_type": "error",
     "traceback": [
      "\u001b[0;31m---------------------------------------------------------------------------\u001b[0m",
      "\u001b[0;31mIndexError\u001b[0m                                Traceback (most recent call last)",
      "\u001b[0;32m/tmp/ipykernel_40969/1909888373.py\u001b[0m in \u001b[0;36m<module>\u001b[0;34m\u001b[0m\n\u001b[1;32m     11\u001b[0m \u001b[0mprint\u001b[0m\u001b[0;34m(\u001b[0m\u001b[0;34mf'Group 3: {results.group(3)}'\u001b[0m\u001b[0;34m)\u001b[0m\u001b[0;34m\u001b[0m\u001b[0;34m\u001b[0m\u001b[0m\n\u001b[1;32m     12\u001b[0m \u001b[0;34m\u001b[0m\u001b[0m\n\u001b[0;32m---> 13\u001b[0;31m \u001b[0mprint\u001b[0m\u001b[0;34m(\u001b[0m\u001b[0;34mf'Non-exitant group: {results.group(5)}'\u001b[0m\u001b[0;34m)\u001b[0m\u001b[0;34m\u001b[0m\u001b[0;34m\u001b[0m\u001b[0m\n\u001b[0m",
      "\u001b[0;31mIndexError\u001b[0m: no such group"
     ]
    }
   ],
   "source": [
    "phone_pattern = re.compile(r'(\\d{3})-(\\d{3})-(\\d{4})')\n",
    "\n",
    "results = re.search(phone_pattern, text)\n",
    "\n",
    "print(results.group())\n",
    "\n",
    "print(f'Calling the results by the groups position to extract area code for example, notice indexing starts at 1 not zero: {results.group(1)}')\n",
    "\n",
    "print(f'Group 2: {results.group(2)}')\n",
    "\n",
    "print(f'Group 3: {results.group(3)}')\n",
    "\n",
    "print(f'Non-exitant group: {results.group(5)}')"
   ]
  },
  {
   "cell_type": "code",
   "execution_count": null,
   "metadata": {},
   "outputs": [],
   "source": []
  },
  {
   "cell_type": "markdown",
   "metadata": {},
   "source": [
    "<hr />\n",
    "\n",
    "### Useful Regex Methods:\n",
    "\n",
    "<hr />\n",
    "\n",
    "1) The \"|\" (or) operator to search for multiple terms: \n",
    "\n"
   ]
  },
  {
   "cell_type": "code",
   "execution_count": 34,
   "metadata": {},
   "outputs": [
    {
     "data": {
      "text/plain": [
       "<re.Match object; span=(4, 7), match='dog'>"
      ]
     },
     "execution_count": 34,
     "metadata": {},
     "output_type": "execute_result"
    }
   ],
   "source": [
    "re.search(r'cat|dog', 'The dog is here')"
   ]
  },
  {
   "cell_type": "markdown",
   "metadata": {},
   "source": [
    "2) The wildcard operator that acts as a placement and will match any character we place there:"
   ]
  },
  {
   "cell_type": "code",
   "execution_count": 36,
   "metadata": {},
   "outputs": [
    {
     "data": {
      "text/plain": [
       "['cat', 'hat', 'sat']"
      ]
     },
     "execution_count": 36,
     "metadata": {},
     "output_type": "execute_result"
    }
   ],
   "source": [
    "# grabbing a certain letter in front of \"at\", standing for a wild card, meaning anything there, attached to \"at\"\n",
    "re.findall(r'.at', 'The cat in the hat sat there')"
   ]
  },
  {
   "cell_type": "code",
   "execution_count": 38,
   "metadata": {},
   "outputs": [
    {
     "data": {
      "text/plain": [
       "['e cat', 'e hat', 'splat']"
      ]
     },
     "execution_count": 38,
     "metadata": {},
     "output_type": "execute_result"
    }
   ],
   "source": [
    "# If we had something longer -> notice how this behaves\n",
    "re.findall(r'...at', 'The cat in the hat went splat')"
   ]
  },
  {
   "cell_type": "code",
   "execution_count": null,
   "metadata": {},
   "outputs": [],
   "source": []
  },
  {
   "cell_type": "markdown",
   "metadata": {},
   "source": [
    "3. Starts with and End with:"
   ]
  },
  {
   "cell_type": "code",
   "execution_count": 40,
   "metadata": {},
   "outputs": [
    {
     "data": {
      "text/plain": [
       "['1']"
      ]
     },
     "execution_count": 40,
     "metadata": {},
     "output_type": "execute_result"
    }
   ],
   "source": [
    "# finding everything that starts with a number -> for the entire text, not a random number inside of this:\n",
    "re.findall(r'^\\d', '1 is a number too 2')"
   ]
  },
  {
   "cell_type": "code",
   "execution_count": 41,
   "metadata": {},
   "outputs": [
    {
     "data": {
      "text/plain": [
       "['2']"
      ]
     },
     "execution_count": 41,
     "metadata": {},
     "output_type": "execute_result"
    }
   ],
   "source": [
    "# Ends with a number:\n",
    "re.findall(r'\\d$', 'The number is 2')"
   ]
  },
  {
   "cell_type": "code",
   "execution_count": null,
   "metadata": {},
   "outputs": [],
   "source": []
  },
  {
   "cell_type": "markdown",
   "metadata": {},
   "source": [
    "4)  Exclusion: to exclude characters, the carrot(power) \"^\" symbol is used in conjunction with a set of brackets:\n",
    "\n",
    ">   #### A very common way to get rid of punctuations from a sentence"
   ]
  },
  {
   "cell_type": "code",
   "execution_count": 44,
   "metadata": {},
   "outputs": [
    {
     "data": {
      "text/plain": [
       "['there are ', ' numbers ', ' inside ', ' this sentence']"
      ]
     },
     "execution_count": 44,
     "metadata": {},
     "output_type": "execute_result"
    }
   ],
   "source": [
    "phrase = 'there are 3 numbers 54 inside 7 this sentence'\n",
    "\n",
    "# excluding inside the \"[]\"\n",
    "# the \"+\" sign is added to group the words back together -> In our quantifiers, the plus sign means occurs one or more times\n",
    "pattern = r'[^\\d]+'\n",
    "\n",
    "# will return a list of every single character that is not a number\n",
    "re.findall(pattern, phrase)"
   ]
  },
  {
   "cell_type": "code",
   "execution_count": null,
   "metadata": {},
   "outputs": [],
   "source": []
  },
  {
   "cell_type": "code",
   "execution_count": 46,
   "metadata": {},
   "outputs": [
    {
     "data": {
      "text/plain": [
       "['This is a string', ' but it has punctuation', ' How can we remove it']"
      ]
     },
     "execution_count": 46,
     "metadata": {},
     "output_type": "execute_result"
    }
   ],
   "source": [
    "test_phrase = 'This is a string! but it has punctuation. How can we remove it?'\n",
    "\n",
    "# returns the string without any punctuation and split on where the punctuation were\n",
    "re.findall(r'[^!.?]+', test_phrase)"
   ]
  },
  {
   "cell_type": "code",
   "execution_count": 49,
   "metadata": {},
   "outputs": [
    {
     "name": "stdout",
     "output_type": "stream",
     "text": [
      "['This', 'is', 'a', 'string', 'but', 'it', 'has', 'punctuation', 'How', 'can', 'we', 'remove', 'it']\n"
     ]
    },
    {
     "data": {
      "text/plain": [
       "'This is a string but it has punctuation How can we remove it'"
      ]
     },
     "execution_count": 49,
     "metadata": {},
     "output_type": "execute_result"
    }
   ],
   "source": [
    "# If we add a space to the above pattern, we end up removing the spaces and getting a list of all the words:\n",
    "clean = re.findall(r'[^!.? ]+', test_phrase)\n",
    "\n",
    "print(clean)\n",
    "\n",
    "# joining with space\n",
    "' '.join(clean)"
   ]
  },
  {
   "cell_type": "code",
   "execution_count": null,
   "metadata": {},
   "outputs": [],
   "source": []
  },
  {
   "cell_type": "markdown",
   "metadata": {},
   "source": [
    "5)  Inclusion grouping:"
   ]
  },
  {
   "cell_type": "code",
   "execution_count": 51,
   "metadata": {},
   "outputs": [
    {
     "data": {
      "text/plain": [
       "['hyphen-words', 'long-ish']"
      ]
     },
     "execution_count": 51,
     "metadata": {},
     "output_type": "execute_result"
    }
   ],
   "source": [
    "text = 'Only find the hyphen-words in this sentence. But you do not know how long-ish they are'\n",
    "\n",
    "# we have a group of alphanumeric characters, then dash \"-\" followed by another group of alphanumeric characters\n",
    "\n",
    "pattern = r'[\\w]+-[\\w]+'\n",
    "\n",
    "re.findall(pattern, text)"
   ]
  },
  {
   "cell_type": "code",
   "execution_count": null,
   "metadata": {},
   "outputs": [],
   "source": []
  },
  {
   "cell_type": "markdown",
   "metadata": {},
   "source": [
    "6)  Using parentheses to list out multiple options for matching:"
   ]
  },
  {
   "cell_type": "code",
   "execution_count": 53,
   "metadata": {},
   "outputs": [
    {
     "data": {
      "text/plain": [
       "<re.Match object; span=(26, 37), match='caterpillar'>"
      ]
     },
     "execution_count": 53,
     "metadata": {},
     "output_type": "execute_result"
    }
   ],
   "source": [
    "text = 'Hello, would you like some catfish?'\n",
    "texttwo = \"Hello, would you like to take a catnap?\"\n",
    "textthree = \"Hello, have you seen this caterpillar?\"\n",
    "\n",
    "# finding diff options:\n",
    "\n",
    "re.search(r'cat(fish|nap|erpillar)', textthree)"
   ]
  },
  {
   "cell_type": "code",
   "execution_count": null,
   "metadata": {},
   "outputs": [],
   "source": []
  }
 ],
 "metadata": {
  "interpreter": {
   "hash": "916dbcbb3f70747c44a77c7bcd40155683ae19c65e1c03b4aa3499c5328201f1"
  },
  "kernelspec": {
   "display_name": "Python 3.8.10 64-bit",
   "language": "python",
   "name": "python3"
  },
  "language_info": {
   "codemirror_mode": {
    "name": "ipython",
    "version": 3
   },
   "file_extension": ".py",
   "mimetype": "text/x-python",
   "name": "python",
   "nbconvert_exporter": "python",
   "pygments_lexer": "ipython3",
   "version": "3.8.8"
  },
  "orig_nbformat": 4
 },
 "nbformat": 4,
 "nbformat_minor": 2
}
