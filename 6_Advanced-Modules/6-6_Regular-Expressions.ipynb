{
 "cells": [
  {
   "cell_type": "markdown",
   "metadata": {},
   "source": [
    ">   ### Regular Expressions\n",
    "\n",
    "-   If we want to search for a pattern structure within a string for instance -> Searching for general patterns for instance emails \"xyz@xyz.com\" -> Regex shine here\n",
    "\n",
    ">   ### Python comes with a built in regular expressions library or re for short, that allows us to create specialized pattern strings and search for matches within text\n",
    "\n",
    "\n",
    "\n",
    "\n",
    "\n",
    "<hr />\n",
    "\n",
    "\n",
    "\n",
    "\n",
    "##### Understanding the special syntax for these pattern strings is the key to working well with Regex\n",
    "\n",
    ">   ### Understanding how to look up the relevant information to quickly find the appropriate/correct pattern -> Understanding how to convert what we are looking for into specialized pattern syntax and then we can look up the necessary patterns/quantifiers/identifiers that we need\n",
    "\n",
    "\n",
    "\n",
    "\n",
    "\n",
    "<hr />\n",
    "\n",
    "\n",
    "\n",
    "\n",
    ">   #### Phone number example:\n",
    "\n",
    "               (555)-555-5555\n",
    "\n",
    "### Regex Pattern:\n",
    "\n",
    "                <!-- The \"r\" informs python, especially when using the regex library not to treat this as a normal string, and to expect identifiers within this string -->\n",
    "                <!-- The \"\\\" backslashes correspond to the individual identifiers -->\n",
    "                r\"(\\d\\d\\d)-\\d\\d\\d-\\d\\d\\d\\d\"\n",
    "\n",
    "\n",
    "\n",
    "### The identifiers are like placeholders/wildcards, waiting for a match based off a particular data type\n",
    "\n",
    ">   #### Above \"\\d\" stands for digit -> looking for 3 or 4 digits in a row\n",
    "\n",
    ">   #### General identifiers and exact strings we are looking for construct a regex pattern\n",
    "\n",
    "\n",
    "\n",
    "<hr />\n",
    "\n",
    "\n",
    "#### Searching for basic patterns in text:\n",
    "\n",
    "\n"
   ]
  },
  {
   "cell_type": "code",
   "execution_count": 1,
   "metadata": {},
   "outputs": [
    {
     "data": {
      "text/plain": [
       "True"
      ]
     },
     "execution_count": 1,
     "metadata": {},
     "output_type": "execute_result"
    }
   ],
   "source": [
    "text = \"The phone number is 545-555-1234. Call soon!\"\n",
    "\n",
    "# we could search for simple strings in the text\n",
    "'phone' in text"
   ]
  },
  {
   "cell_type": "code",
   "execution_count": 18,
   "metadata": {},
   "outputs": [
    {
     "data": {
      "text/plain": [
       "<re.Match object; span=(3, 8), match='phone'>"
      ]
     },
     "execution_count": 18,
     "metadata": {},
     "output_type": "execute_result"
    }
   ],
   "source": [
    "# importing the regular expressions module\n",
    "import re\n",
    "\n",
    "pattern = 'phone'\n",
    "\n",
    "# This method returns much more information in a match object\n",
    "# the Match object reports whether or not there a match to the 'phone', but also where the actual index location span to (start and end)\n",
    "re.search(pattern, text)"
   ]
  },
  {
   "cell_type": "markdown",
   "metadata": {},
   "source": [
    ">   #### Looking for a pattern that's not present in the text:"
   ]
  },
  {
   "cell_type": "code",
   "execution_count": 6,
   "metadata": {},
   "outputs": [],
   "source": [
    "pattern = 'NOT IN TEXT'\n",
    "\n",
    "# Nothing is returned\n",
    "re.search(pattern, text)"
   ]
  },
  {
   "cell_type": "code",
   "execution_count": 9,
   "metadata": {},
   "outputs": [
    {
     "data": {
      "text/plain": [
       "<re.Match object; span=(4, 9), match='phone'>"
      ]
     },
     "execution_count": 9,
     "metadata": {},
     "output_type": "execute_result"
    }
   ],
   "source": [
    "# resetting pattern to phone\n",
    "pattern = 'phone'\n",
    "\n",
    "# saving it into a regex match object to explore\n",
    "match = re.search(pattern, text)\n",
    "\n",
    "match"
   ]
  },
  {
   "cell_type": "code",
   "execution_count": 12,
   "metadata": {},
   "outputs": [
    {
     "name": "stdout",
     "output_type": "stream",
     "text": [
      "getting the index location of the span: (4, 9)\n",
      "Start Index 4, and end index 9 of the matched\n"
     ]
    }
   ],
   "source": [
    "# The match object has a lot of information that we can grab from:\n",
    "\n",
    "print(f\"getting the index location of the span: {match.span()}\")\n",
    "\n",
    "print(f\"Start Index {match.start()}, and end index {match.end()} of the matched\")"
   ]
  },
  {
   "cell_type": "code",
   "execution_count": null,
   "metadata": {},
   "outputs": [],
   "source": []
  },
  {
   "cell_type": "markdown",
   "metadata": {},
   "source": [
    ">   ### If we had multiple matches inside a string, we would unfortunately only get back the first match:"
   ]
  },
  {
   "cell_type": "code",
   "execution_count": 19,
   "metadata": {},
   "outputs": [
    {
     "data": {
      "text/plain": [
       "<re.Match object; span=(3, 8), match='phone'>"
      ]
     },
     "execution_count": 19,
     "metadata": {},
     "output_type": "execute_result"
    }
   ],
   "source": [
    "text = 'my phone once, my phone twice'\n",
    "\n",
    "match = re.search('phone', text)\n",
    "\n",
    "# returns only one span, the first match\n",
    "match"
   ]
  },
  {
   "cell_type": "code",
   "execution_count": null,
   "metadata": {},
   "outputs": [],
   "source": []
  },
  {
   "cell_type": "markdown",
   "metadata": {},
   "source": [
    ">   ### \"re.findall()\" helps us find all the matches:"
   ]
  },
  {
   "cell_type": "code",
   "execution_count": 15,
   "metadata": {},
   "outputs": [
    {
     "data": {
      "text/plain": [
       "['phone', 'phone']"
      ]
     },
     "execution_count": 15,
     "metadata": {},
     "output_type": "execute_result"
    }
   ],
   "source": [
    "matches = re.findall('phone', text)\n",
    "\n",
    "# returns a list of how many matches we have\n",
    "matches"
   ]
  },
  {
   "cell_type": "code",
   "execution_count": null,
   "metadata": {},
   "outputs": [],
   "source": []
  },
  {
   "cell_type": "markdown",
   "metadata": {},
   "source": [
    ">   ### To get back the actual matched objects, we can use the iterator:"
   ]
  },
  {
   "cell_type": "code",
   "execution_count": 22,
   "metadata": {},
   "outputs": [
    {
     "name": "stdout",
     "output_type": "stream",
     "text": [
      "(3, 8)\n",
      "phone\n",
      "(18, 23)\n",
      "phone\n"
     ]
    }
   ],
   "source": [
    "# iterates though the text and returns each matched object it found\n",
    "\n",
    "for match in re.finditer(\"phone\", text):\n",
    "    print(match.span())\n",
    "\n",
    "    # returning the actual text that matched, using the group method\n",
    "    print(match.group())\n"
   ]
  },
  {
   "cell_type": "code",
   "execution_count": null,
   "metadata": {},
   "outputs": [],
   "source": []
  }
 ],
 "metadata": {
  "interpreter": {
   "hash": "916dbcbb3f70747c44a77c7bcd40155683ae19c65e1c03b4aa3499c5328201f1"
  },
  "kernelspec": {
   "display_name": "Python 3.8.10 64-bit",
   "language": "python",
   "name": "python3"
  },
  "language_info": {
   "codemirror_mode": {
    "name": "ipython",
    "version": 3
   },
   "file_extension": ".py",
   "mimetype": "text/x-python",
   "name": "python",
   "nbconvert_exporter": "python",
   "pygments_lexer": "ipython3",
   "version": "3.8.8"
  },
  "orig_nbformat": 4
 },
 "nbformat": 4,
 "nbformat_minor": 2
}
