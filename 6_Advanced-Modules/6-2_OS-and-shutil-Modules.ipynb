{
 "cells": [
  {
   "cell_type": "markdown",
   "metadata": {},
   "source": [
    "### OS and shutil modules modules allow us to easily navigate files and directories on the computer to perform actions on them (moving, deleting, ...)\n",
    "\n"
   ]
  },
  {
   "cell_type": "code",
   "execution_count": 2,
   "metadata": {},
   "outputs": [
    {
     "data": {
      "text/plain": [
       "'/home/codeyourfuture/Documents/GitHub/python_review/6_Advanced-Modules'"
      ]
     },
     "execution_count": 2,
     "metadata": {},
     "output_type": "execute_result"
    }
   ],
   "source": [
    "# Special command in Jupiter Notebook that technically works as well in the command line\n",
    "pwd"
   ]
  },
  {
   "cell_type": "code",
   "execution_count": 3,
   "metadata": {},
   "outputs": [],
   "source": [
    "f = open('practice.txt', 'w+')\n",
    "f.write(\"This is a test string\")\n",
    "f.close()"
   ]
  },
  {
   "cell_type": "code",
   "execution_count": 4,
   "metadata": {},
   "outputs": [],
   "source": [
    "import os"
   ]
  },
  {
   "cell_type": "code",
   "execution_count": 5,
   "metadata": {},
   "outputs": [
    {
     "data": {
      "text/plain": [
       "'/home/codeyourfuture/Documents/GitHub/python_review/6_Advanced-Modules'"
      ]
     },
     "execution_count": 5,
     "metadata": {},
     "output_type": "execute_result"
    }
   ],
   "source": [
    "#  This will not only work within Jupiter notebook, but from any .py script\n",
    "os.getcwd()"
   ]
  },
  {
   "cell_type": "code",
   "execution_count": 9,
   "metadata": {},
   "outputs": [
    {
     "data": {
      "text/plain": [
       "['6-1_Collections-Module.ipynb',\n",
       " '6-2_OS-and-shutil-Modules.ipynb',\n",
       " 'practice.txt']"
      ]
     },
     "execution_count": 9,
     "metadata": {},
     "output_type": "execute_result"
    }
   ],
   "source": [
    "# To list items in a dir, by default, it will list all the items in the current directory\n",
    "# listdir takes the path as an argument and lists all the items in that directory with that path\n",
    "os.listdir()"
   ]
  },
  {
   "cell_type": "code",
   "execution_count": 10,
   "metadata": {},
   "outputs": [
    {
     "data": {
      "text/plain": [
       "['.git', '.vscode', '6_Advanced-Modules', '1-5_Basic', 'README.md']"
      ]
     },
     "execution_count": 10,
     "metadata": {},
     "output_type": "execute_result"
    }
   ],
   "source": [
    "# We can also list items in another directory using the os.listdir():\n",
    "os.listdir('/home/codeyourfuture/Documents/GitHub/python_review')"
   ]
  },
  {
   "cell_type": "code",
   "execution_count": null,
   "metadata": {},
   "outputs": [],
   "source": []
  },
  {
   "cell_type": "markdown",
   "metadata": {},
   "source": [
    ">   #### Moving files around with the shutil module:"
   ]
  },
  {
   "cell_type": "code",
   "execution_count": 11,
   "metadata": {},
   "outputs": [],
   "source": [
    "import shutil"
   ]
  },
  {
   "cell_type": "code",
   "execution_count": 12,
   "metadata": {},
   "outputs": [
    {
     "data": {
      "text/plain": [
       "'/home/codeyourfuture/Documents/GitHub/python_review/practice.txt'"
      ]
     },
     "execution_count": 12,
     "metadata": {},
     "output_type": "execute_result"
    }
   ],
   "source": [
    "# To move a file using shutil.move(), 2 main parameters are passed, the src (source) and the dst (destination)\n",
    "shutil.move('practice.txt', '/home/codeyourfuture/Documents/GitHub/python_review')"
   ]
  },
  {
   "cell_type": "code",
   "execution_count": 13,
   "metadata": {},
   "outputs": [
    {
     "data": {
      "text/plain": [
       "['.git',\n",
       " '.vscode',\n",
       " '6_Advanced-Modules',\n",
       " '1-5_Basic',\n",
       " 'practice.txt',\n",
       " 'README.md']"
      ]
     },
     "execution_count": 13,
     "metadata": {},
     "output_type": "execute_result"
    }
   ],
   "source": [
    "# confirming that the file was moved\n",
    "os.listdir('/home/codeyourfuture/Documents/GitHub/python_review')"
   ]
  },
  {
   "cell_type": "code",
   "execution_count": null,
   "metadata": {},
   "outputs": [],
   "source": []
  },
  {
   "cell_type": "markdown",
   "metadata": {},
   "source": [
    ">   ###  3 ways of deleting a file with the os module:\n",
    "\n",
    "1.  os.unlink(path) -> deletes a file at the provided path\n",
    "\n",
    "2.  os.rmdir(path) -> deleted a folder (that must be empty in turn) at a provided path\n",
    "\n",
    "3.  shutil.rmtree(path) -> DANGEROUS -> removes all files and folders contained in a path\n",
    "\n",
    "\n",
    ">   ##### All of these methods cannot be reversed\n",
    "\n",
    ">   ##### send2trash module is a good use to send deleted files to the trash bin instead of permanently removing them\n",
    "\n",
    "\n",
    "            >   pip install send2trash"
   ]
  },
  {
   "cell_type": "code",
   "execution_count": 15,
   "metadata": {},
   "outputs": [
    {
     "data": {
      "text/plain": [
       "['6-1_Collections-Module.ipynb', '6-2_OS-and-shutil-Modules.ipynb']"
      ]
     },
     "execution_count": 15,
     "metadata": {},
     "output_type": "execute_result"
    }
   ],
   "source": [
    "import send2trash\n",
    "os.listdir()"
   ]
  },
  {
   "cell_type": "code",
   "execution_count": null,
   "metadata": {},
   "outputs": [],
   "source": [
    "shutil.move('/home/codeyourfuture/Documents/GitHub/python_review/practice.txt', os.getcwd())"
   ]
  },
  {
   "cell_type": "code",
   "execution_count": 17,
   "metadata": {},
   "outputs": [
    {
     "data": {
      "text/plain": [
       "['6-1_Collections-Module.ipynb',\n",
       " '6-2_OS-and-shutil-Modules.ipynb',\n",
       " 'practice.txt']"
      ]
     },
     "execution_count": 17,
     "metadata": {},
     "output_type": "execute_result"
    }
   ],
   "source": [
    "os.listdir()"
   ]
  },
  {
   "cell_type": "code",
   "execution_count": 19,
   "metadata": {},
   "outputs": [],
   "source": [
    "# Deleting using send2trash module -> this will go to the trash bin, not permanent removal\n",
    "send2trash.send2trash('practice.txt')"
   ]
  },
  {
   "cell_type": "code",
   "execution_count": 20,
   "metadata": {},
   "outputs": [
    {
     "data": {
      "text/plain": [
       "['6-1_Collections-Module.ipynb', '6-2_OS-and-shutil-Modules.ipynb']"
      ]
     },
     "execution_count": 20,
     "metadata": {},
     "output_type": "execute_result"
    }
   ],
   "source": [
    "# no longer in our directory -> deleted\n",
    "os.listdir()"
   ]
  },
  {
   "cell_type": "code",
   "execution_count": null,
   "metadata": {},
   "outputs": [],
   "source": []
  },
  {
   "cell_type": "markdown",
   "metadata": {},
   "source": [
    ">   ### os.walk(): takes in one parameter, \"top\"\n",
    "\n",
    "\n",
    "### Directory tree generator -> For each directory in the directory tree rooted at top (including top itself, but excluding '.' and '..'), yields a 3-tuple:\n",
    "\n",
    "### 1. dirpath\n",
    "\n",
    "### 2. dirnames\n",
    "\n",
    "### 3. filenames"
   ]
  },
  {
   "cell_type": "code",
   "execution_count": 21,
   "metadata": {},
   "outputs": [
    {
     "data": {
      "text/plain": [
       "'/home/codeyourfuture/Documents/GitHub/python_review/6_Advanced-Modules'"
      ]
     },
     "execution_count": 21,
     "metadata": {},
     "output_type": "execute_result"
    }
   ],
   "source": [
    "os.getcwd()"
   ]
  },
  {
   "cell_type": "code",
   "execution_count": 22,
   "metadata": {},
   "outputs": [
    {
     "name": "stdout",
     "output_type": "stream",
     "text": [
      "Currently looking at: /home/codeyourfuture/Documents/GitHub/python_review/6_Advanced-Modules/Example_Top_Level\n",
      "\n",
      "\n",
      "The subfolders are: \n",
      "\tSubfolder: Mid-Example-One\n",
      "\n",
      "\n",
      "The files are: \n",
      "\tFile: Mid-Example.txt\n",
      "\n",
      "\n",
      "Currently looking at: /home/codeyourfuture/Documents/GitHub/python_review/6_Advanced-Modules/Example_Top_Level/Mid-Example-One\n",
      "\n",
      "\n",
      "The subfolders are: \n",
      "\tSubfolder: Bottom-Level-Two\n",
      "\tSubfolder: Bottom-Level-One\n",
      "\n",
      "\n",
      "The files are: \n",
      "\tFile: Mid-Level-Doc.txt\n",
      "\n",
      "\n",
      "Currently looking at: /home/codeyourfuture/Documents/GitHub/python_review/6_Advanced-Modules/Example_Top_Level/Mid-Example-One/Bottom-Level-Two\n",
      "\n",
      "\n",
      "The subfolders are: \n",
      "\n",
      "\n",
      "The files are: \n",
      "\tFile: Bottom-Text-Two.txt\n",
      "\n",
      "\n",
      "Currently looking at: /home/codeyourfuture/Documents/GitHub/python_review/6_Advanced-Modules/Example_Top_Level/Mid-Example-One/Bottom-Level-One\n",
      "\n",
      "\n",
      "The subfolders are: \n",
      "\n",
      "\n",
      "The files are: \n",
      "\tFile: One_Text.txt\n",
      "\n",
      "\n"
     ]
    }
   ],
   "source": [
    "# We want to look directly at Example_Top_Level\n",
    "file_path = '/home/codeyourfuture/Documents/GitHub/python_review/6_Advanced-Modules/Example_Top_Level'\n",
    "\n",
    "for folder, sub_folders, files in os.walk(file_path):\n",
    "    print(f\"Currently looking at: {folder}\")\n",
    "\n",
    "    print('\\n')\n",
    "\n",
    "    print('The subfolders are: ')\n",
    "    for sub_fold in sub_folders:\n",
    "        print(f\"\\tSubfolder: {sub_fold}\")\n",
    "    \n",
    "    print('\\n')\n",
    "    print('The files are: ')\n",
    "    for f in files:\n",
    "        print(f\"\\tFile: {f}\")\n",
    "\n",
    "    print('\\n')\n",
    "    "
   ]
  },
  {
   "cell_type": "code",
   "execution_count": null,
   "metadata": {},
   "outputs": [],
   "source": []
  }
 ],
 "metadata": {
  "interpreter": {
   "hash": "916dbcbb3f70747c44a77c7bcd40155683ae19c65e1c03b4aa3499c5328201f1"
  },
  "kernelspec": {
   "display_name": "Python 3.8.10 64-bit",
   "language": "python",
   "name": "python3"
  },
  "language_info": {
   "codemirror_mode": {
    "name": "ipython",
    "version": 3
   },
   "file_extension": ".py",
   "mimetype": "text/x-python",
   "name": "python",
   "nbconvert_exporter": "python",
   "pygments_lexer": "ipython3",
   "version": "3.8.8"
  },
  "orig_nbformat": 4
 },
 "nbformat": 4,
 "nbformat_minor": 2
}
