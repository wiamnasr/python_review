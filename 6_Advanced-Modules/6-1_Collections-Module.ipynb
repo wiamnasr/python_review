{
 "cells": [
  {
   "cell_type": "markdown",
   "metadata": {},
   "source": [
    "### Collections Module is built in base python and implements specialized container data types\n",
    "\n",
    ">   ##### These containers are alternative to the general-purpose built-in containers in python\n",
    "\n",
    ">   ##### A container is something like a dictionary or a tuple\n",
    "\n",
    ">   ##### There are specialized container types (versions) that are useful in certain use-cases\n",
    "\n",
    "\n",
    "\n",
    "<hr></hr>"
   ]
  },
  {
   "cell_type": "code",
   "execution_count": 5,
   "metadata": {},
   "outputs": [
    {
     "data": {
      "text/plain": [
       "Counter({2: 5, 3: 2, 'a': 1, 'b': 2, 66: 1, 6: 3})"
      ]
     },
     "execution_count": 5,
     "metadata": {},
     "output_type": "execute_result"
    }
   ],
   "source": [
    "# importing the Count object class from collections\n",
    "from collections import Counter\n",
    "\n",
    "mylist = [2,3,\"a\",\"b\",\"b\",3,2,2,2,2,66,6,6,6]\n",
    "\n",
    "\n",
    "# this gives us a specialized counter object that counted the instances of each unique item in the list\n",
    "Counter(mylist)"
   ]
  },
  {
   "cell_type": "code",
   "execution_count": 6,
   "metadata": {},
   "outputs": [
    {
     "data": {
      "text/plain": [
       "Counter({'H': 1, 'e': 1, 'l': 2, 'o': 1})"
      ]
     },
     "execution_count": 6,
     "metadata": {},
     "output_type": "execute_result"
    }
   ],
   "source": [
    "Counter(\"Hello\")"
   ]
  },
  {
   "cell_type": "code",
   "execution_count": 9,
   "metadata": {},
   "outputs": [
    {
     "data": {
      "text/plain": [
       "Counter({'are': 2,\n",
       "         'there': 1,\n",
       "         'any': 1,\n",
       "         'repeated': 2,\n",
       "         'words': 2,\n",
       "         'here': 2,\n",
       "         'or': 1,\n",
       "         'the': 1,\n",
       "         'unique': 1})"
      ]
     },
     "execution_count": 9,
     "metadata": {},
     "output_type": "execute_result"
    }
   ],
   "source": [
    "sentence = \"Are there any repeated repeated Words here or are the words unique here\"\n",
    "Counter(sentence.lower().split())"
   ]
  },
  {
   "cell_type": "markdown",
   "metadata": {},
   "source": [
    ">   #### Common patterns when using the Counter() object"
   ]
  },
  {
   "cell_type": "code",
   "execution_count": 10,
   "metadata": {},
   "outputs": [
    {
     "data": {
      "text/plain": [
       "Counter({'a': 6, 'b': 7, 'c': 9, 'd': 8})"
      ]
     },
     "execution_count": 10,
     "metadata": {},
     "output_type": "execute_result"
    }
   ],
   "source": [
    "letters = \"aaaaaabbbbbbbcccccccccdddddddd\"\n",
    "\n",
    "c = Counter(letters)\n",
    "c"
   ]
  },
  {
   "cell_type": "code",
   "execution_count": 13,
   "metadata": {},
   "outputs": [
    {
     "data": {
      "text/plain": [
       "[('c', 9), ('d', 8), ('b', 7), ('a', 6)]"
      ]
     },
     "execution_count": 13,
     "metadata": {},
     "output_type": "execute_result"
    }
   ],
   "source": [
    "# The counter objet has many methods, the most_common() method returns the most common in the list as tuple\n",
    "\n",
    "c.most_common()"
   ]
  },
  {
   "cell_type": "code",
   "execution_count": 14,
   "metadata": {},
   "outputs": [
    {
     "data": {
      "text/plain": [
       "[('c', 9), ('d', 8)]"
      ]
     },
     "execution_count": 14,
     "metadata": {},
     "output_type": "execute_result"
    }
   ],
   "source": [
    "# optional to pass in how many you want returned back\n",
    "c.most_common(2)"
   ]
  },
  {
   "cell_type": "markdown",
   "metadata": {},
   "source": [
    "#### Other Common patterns using the Counter() object:\n",
    "\n",
    ">   ###### sum(c.values()) -> total all counts\n",
    "\n",
    "\n",
    ">   ###### c.clear() -> reset all counts\n",
    "\n",
    "\n",
    ">   ###### list(c) -> list unique elements\n",
    "\n",
    "\n",
    ">   ###### set(c) -> convert to a set\n",
    "\n",
    "\n",
    ">   ###### dict(c) -> convert to a regular dictionary\n",
    "\n",
    "\n",
    ">   ###### c.items() -> convert to a list of (elem, cnt) pairs\n",
    "\n",
    "\n",
    ">   ###### Counter(dict(list_of_pairs)) -> convert from a list of (elem, cnt) pairs\n",
    "\n",
    "\n",
    ">   ###### c.most_common()[:-n-1:-1] -> n least most common elements\n",
    "\n",
    "\n",
    ">   ###### c += Counter() -> remove zero and negative counts"
   ]
  },
  {
   "cell_type": "markdown",
   "metadata": {},
   "source": []
  },
  {
   "cell_type": "markdown",
   "metadata": {},
   "source": []
  },
  {
   "cell_type": "markdown",
   "metadata": {},
   "source": [
    "#### Another object class from the collections module is the defaultdict\n",
    "\n",
    ">   #### In a normal python dictionary, we get a key error if we tried to access a key that is not available in the dictionary\n",
    "\n",
    ">   #### In certain situations, such as when adding keys that were not present to a dictionary using a for loop, use a defaultdict (default dictionary)\n",
    "\n",
    "\n",
    "### A default dictionary will assign a default value, if there is an instance where a keyError would have occured"
   ]
  },
  {
   "cell_type": "code",
   "execution_count": 16,
   "metadata": {},
   "outputs": [
    {
     "data": {
      "text/plain": [
       "100"
      ]
     },
     "execution_count": 16,
     "metadata": {},
     "output_type": "execute_result"
    }
   ],
   "source": [
    "from collections import defaultdict\n",
    "\n",
    "# we have to chose what we want the actual default value to be\n",
    "# using lambda expression to do so\n",
    "d = defaultdict(lambda: 0)\n",
    "\n",
    "# This still behaves like a normal dictionary when we assign a correct value:\n",
    "d['correct'] = 100\n",
    "d['correct']"
   ]
  },
  {
   "cell_type": "code",
   "execution_count": 18,
   "metadata": {},
   "outputs": [
    {
     "data": {
      "text/plain": [
       "0"
      ]
     },
     "execution_count": 18,
     "metadata": {},
     "output_type": "execute_result"
    }
   ],
   "source": [
    "# but if a key that is not already present was called it assigns the default value 0 -> useful\n",
    "d['Wrong key']"
   ]
  },
  {
   "cell_type": "code",
   "execution_count": null,
   "metadata": {},
   "outputs": [],
   "source": []
  },
  {
   "cell_type": "markdown",
   "metadata": {},
   "source": [
    "### Named Tuple is another object class from the collections module\n",
    "\n",
    ">   #### Similar to the way a default dictionary tried to improve on a standard dictionary by getting rid of the keyError with default value, the named tuple, tries to expand on a normal tuple object by having main indexes"
   ]
  },
  {
   "cell_type": "code",
   "execution_count": 22,
   "metadata": {},
   "outputs": [
    {
     "data": {
      "text/plain": [
       "'Sam'"
      ]
     },
     "execution_count": 22,
     "metadata": {},
     "output_type": "execute_result"
    }
   ],
   "source": [
    "from collections import namedtuple\n",
    "\n",
    "mytuple = (10, 20, 30)\n",
    "\n",
    "# namedtuple takes in 2 params, the typename (type this will be reported as) and the field_names passed in as a list\n",
    "Dog = namedtuple( 'Dog', ['age', 'breed', 'name'])\n",
    "\n",
    "sammy = Dog(age=5, breed='lab', name='Sam')\n",
    "\n",
    "# now there are associations with the indexes using named tuple -> useful for large tuples to be able to access them both by index position or named index as such as if its an attribute\n",
    "sammy.name"
   ]
  },
  {
   "cell_type": "code",
   "execution_count": 21,
   "metadata": {},
   "outputs": [
    {
     "data": {
      "text/plain": [
       "5"
      ]
     },
     "execution_count": 21,
     "metadata": {},
     "output_type": "execute_result"
    }
   ],
   "source": [
    "sammy[0]"
   ]
  },
  {
   "cell_type": "code",
   "execution_count": null,
   "metadata": {},
   "outputs": [],
   "source": []
  },
  {
   "cell_type": "code",
   "execution_count": null,
   "metadata": {},
   "outputs": [],
   "source": []
  }
 ],
 "metadata": {
  "interpreter": {
   "hash": "916dbcbb3f70747c44a77c7bcd40155683ae19c65e1c03b4aa3499c5328201f1"
  },
  "kernelspec": {
   "display_name": "Python 3.8.10 64-bit",
   "language": "python",
   "name": "python3"
  },
  "language_info": {
   "codemirror_mode": {
    "name": "ipython",
    "version": 3
   },
   "file_extension": ".py",
   "mimetype": "text/x-python",
   "name": "python",
   "nbconvert_exporter": "python",
   "pygments_lexer": "ipython3",
   "version": "3.8.8"
  },
  "orig_nbformat": 4
 },
 "nbformat": 4,
 "nbformat_minor": 2
}
